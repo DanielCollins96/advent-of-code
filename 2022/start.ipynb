{
 "cells": [
  {
   "cell_type": "code",
   "execution_count": 1,
   "metadata": {},
   "outputs": [],
   "source": [
    "import pandas as pd\n",
    "import numpy as np\n",
    "from textwrap import wrap\n",
    "from collections import deque, defaultdict\n",
    "import re"
   ]
  },
  {
   "attachments": {},
   "cell_type": "markdown",
   "metadata": {},
   "source": [
    "# Day 1"
   ]
  },
  {
   "cell_type": "code",
   "execution_count": null,
   "metadata": {},
   "outputs": [],
   "source": [
    "day1_data = open('day1.txt', 'r').read().split('\\n\\n')"
   ]
  },
  {
   "cell_type": "code",
   "execution_count": null,
   "metadata": {},
   "outputs": [],
   "source": [
    "answer_1 = max([sum([int(cal) for cal in group.split('\\n')]) for group in day1_data])\n",
    "answer_1"
   ]
  },
  {
   "cell_type": "code",
   "execution_count": null,
   "metadata": {},
   "outputs": [],
   "source": [
    "elf_calorie_list = [sum([int(cal) for cal in group.split('\\n')]) for group in day1_data]\n",
    "answer_2 = sum(sorted(elf_calorie_list, reverse=True)[:3])"
   ]
  },
  {
   "attachments": {},
   "cell_type": "markdown",
   "metadata": {},
   "source": [
    "# Day 2"
   ]
  },
  {
   "cell_type": "code",
   "execution_count": null,
   "metadata": {},
   "outputs": [],
   "source": [
    "# a/x = 'rock'\n",
    "# b/y = 'paper'\n",
    "# c/z = 'scissor'\n",
    "# rock = 1, paper = 2, scissors = 3\n",
    "# x = lose, y = draw, z = win\n",
    "point_dict = {\n",
    "    'A X': 4,\n",
    "    'A Y': 8,\n",
    "    'A Z': 3,\n",
    "    'B X': 1,\n",
    "    'B Y': 5,\n",
    "    'B Z': 9,\n",
    "    'C X': 7,\n",
    "    'C Y': 2,\n",
    "    'C Z': 6,\n",
    "}\n",
    "win_dict = {\n",
    "    'A X': 3,\n",
    "    'A Y': 4,\n",
    "    'A Z': 8,\n",
    "    'B X': 1,\n",
    "    'B Y': 5,\n",
    "    'B Z': 9,\n",
    "    'C X': 2,\n",
    "    'C Y': 6,\n",
    "    'C Z': 7,\n",
    "}"
   ]
  },
  {
   "cell_type": "code",
   "execution_count": null,
   "metadata": {},
   "outputs": [],
   "source": [
    "rock_paper_scissors = open('day2.txt', 'r').read().split('\\n')"
   ]
  },
  {
   "cell_type": "code",
   "execution_count": null,
   "metadata": {},
   "outputs": [],
   "source": [
    "day2_p1 = sum([rock_paper_scissors.count(x) * y for x,y in point_dict.items()])\n",
    "day2_p2 = sum([rock_paper_scissors.count(x) * y for x,y in win_dict.items()])"
   ]
  },
  {
   "cell_type": "code",
   "execution_count": null,
   "metadata": {},
   "outputs": [],
   "source": [
    "day2_p2"
   ]
  },
  {
   "attachments": {},
   "cell_type": "markdown",
   "metadata": {},
   "source": [
    "# Day 3"
   ]
  },
  {
   "cell_type": "code",
   "execution_count": null,
   "metadata": {},
   "outputs": [],
   "source": [
    "rucksacks = open('day3.txt', 'r').read().split('\\n')"
   ]
  },
  {
   "cell_type": "code",
   "execution_count": null,
   "metadata": {},
   "outputs": [],
   "source": [
    "value_dict = {\n",
    "    'a' : 1,    \n",
    "    'b' : 2,\n",
    "    'c' : 3,\n",
    "    'd' : 4,\n",
    "    'e' : 5,\n",
    "    'f' : 6,\n",
    "    'g' : 7,\n",
    "    'h' : 8,\n",
    "    'i' : 9,\n",
    "    'j' : 10,\n",
    "    'k' : 11,\n",
    "    'l' : 12,\n",
    "    'm' : 13,\n",
    "    'n' : 14,\n",
    "    'o' : 15,\n",
    "    'p' : 16,\n",
    "    'q' : 17,\n",
    "    'r' : 18,\n",
    "    's' : 19,\n",
    "    't' : 20,\n",
    "    'u' : 21,\n",
    "    'v' : 22,\n",
    "    'w' : 23,\n",
    "    'x' : 24,\n",
    "    'y' : 25,\n",
    "    'z' : 26,\n",
    "    'A' : 27,\n",
    "    'B' : 28,\n",
    "    'C' : 29,\n",
    "    'D' : 30,\n",
    "    'E' : 31,\n",
    "    'F' : 32,\n",
    "    'G' : 33,\n",
    "    'H' : 34,\n",
    "    'I' : 35,\n",
    "    'J' : 36,\n",
    "    'K' : 37,\n",
    "    'L' : 38,\n",
    "    'M' : 39,\n",
    "    'N' : 40,\n",
    "    'O' : 41,\n",
    "    'P' : 42,\n",
    "    'Q' : 43,\n",
    "    'R' : 44,\n",
    "    'S' : 45,\n",
    "    'T' : 46,\n",
    "    'U' : 47,\n",
    "    'V' : 48,\n",
    "    'W' : 49,\n",
    "    'X' : 50,\n",
    "    'Y' : 51,\n",
    "    'Z' : 52,\n",
    "}"
   ]
  },
  {
   "cell_type": "code",
   "execution_count": null,
   "metadata": {},
   "outputs": [],
   "source": [
    "# split rucksacks in half and sum the intersection\n",
    "rucksack_chars = [(set(x[:int(len(x)/2)]).intersection(set(x[int(len(x)/2):]))) for x in rucksacks]\n",
    "pt1_answer = sum([value_dict[x.pop()] for x in rucksack_chars])"
   ]
  },
  {
   "cell_type": "code",
   "execution_count": null,
   "metadata": {},
   "outputs": [],
   "source": [
    "pt2_answer = sum([value_dict[list(set(rucksacks[i]).intersection(set(rucksacks[i+1])).intersection(set(rucksacks[i+2])))[0]] for i in range(0,len(rucksacks)-2, 3)])"
   ]
  },
  {
   "attachments": {},
   "cell_type": "markdown",
   "metadata": {},
   "source": [
    "# Day 4"
   ]
  },
  {
   "cell_type": "code",
   "execution_count": null,
   "metadata": {},
   "outputs": [],
   "source": [
    "\n",
    "cleanup_list = open('day4.txt', 'r').read().split('\\n').split('-')\n",
    "# cleanup_list = open('day4.txt', 'r').read()"
   ]
  },
  {
   "cell_type": "code",
   "execution_count": null,
   "metadata": {},
   "outputs": [],
   "source": [
    "clean_cleanup_list = [[[int(n.split('-')[0]),int(n.split('-')[1])] for n in a.split(',')] for a in cleanup_list]"
   ]
  },
  {
   "cell_type": "code",
   "execution_count": null,
   "metadata": {},
   "outputs": [],
   "source": [
    "# This checks both lists to see if the starting room is part of the others lists\n",
    "day4_pt1 = sum([a[0][0] <= a[1][0] and a[0][1] >= a[1][1] or a[1][0] <= a[0][0] and a[1][1] >= a[0][1] for a in clean_cleanup_list])"
   ]
  },
  {
   "cell_type": "code",
   "execution_count": null,
   "metadata": {},
   "outputs": [],
   "source": [
    "day4_pt1"
   ]
  },
  {
   "cell_type": "code",
   "execution_count": null,
   "metadata": {},
   "outputs": [],
   "source": [
    "day4_pt2 = sum([a[1][0] <= a[0][0] <= a[1][1] or a[0][1] >= a[1][0] >= a[0][0] for a in clean_cleanup_list])\n",
    "day4_pt2"
   ]
  },
  {
   "attachments": {},
   "cell_type": "markdown",
   "metadata": {},
   "source": [
    "# Day 5"
   ]
  },
  {
   "cell_type": "code",
   "execution_count": null,
   "metadata": {},
   "outputs": [],
   "source": [
    "supply_stacks = open('day5.txt', 'r').read().splitlines()"
   ]
  },
  {
   "cell_type": "code",
   "execution_count": null,
   "metadata": {},
   "outputs": [],
   "source": [
    "board = supply_stacks[:supply_stacks.index('')]\n",
    "moves = supply_stacks[supply_stacks.index('')+1:]"
   ]
  },
  {
   "cell_type": "code",
   "execution_count": null,
   "metadata": {},
   "outputs": [],
   "source": [
    "# Organize board_dict to match the order of stacks\n",
    "board_list = [[board[idx:idx+4].strip() for idx in range(0,len(board),4)] for board in board[:-1]]\n",
    "board_dict = dict.fromkeys(board[-1].strip().split('   '))\n",
    "\n",
    "for i,row in enumerate([[row[i] for row in board_list if row[i] != '']for i in range(len(board_list[0]))]):\n",
    "    print(i+1)\n",
    "    board_dict[str(i+1)] = row"
   ]
  },
  {
   "cell_type": "code",
   "execution_count": null,
   "metadata": {},
   "outputs": [],
   "source": [
    "# Apply the box movements to the board_dict\n",
    "for i in moves:\n",
    "    try:\n",
    "        move,frm,to = re.findall('\\d{1,3}',i)\n",
    "        board_dict[to][:0] = list(reversed(board_dict[frm][:int(move)]))\n",
    "        del board_dict[frm][:int(move)]\n",
    "    except Exception as E:\n",
    "        print(E)\n",
    "\n",
    "# removing the extra brackets from the result\n",
    "day5_pt1 = ''.join([value[0] for key,value in board_dict.items()]).replace(\"[\",'').replace(\"]\",'')\n"
   ]
  },
  {
   "cell_type": "code",
   "execution_count": null,
   "metadata": {},
   "outputs": [],
   "source": [
    "day5_pt1"
   ]
  },
  {
   "cell_type": "code",
   "execution_count": null,
   "metadata": {},
   "outputs": [],
   "source": [
    "# Apply the box movements to the board_dict without the reverse for pt2 (re-run the board_dict cell before)\n",
    "for i in moves:\n",
    "    try:\n",
    "        move,frm,to = re.findall('\\d{1,3}',i)\n",
    "        board_dict[to][:0] = board_dict[frm][:int(move)]\n",
    "        del board_dict[frm][:int(move)]\n",
    "    except Exception as E:\n",
    "        print(E)"
   ]
  },
  {
   "cell_type": "code",
   "execution_count": null,
   "metadata": {},
   "outputs": [],
   "source": [
    "day5_pt2 = ''.join([value[0] for key,value in board_dict.items()]).replace(\"[\",'').replace(\"]\",'')\n"
   ]
  },
  {
   "cell_type": "code",
   "execution_count": null,
   "metadata": {},
   "outputs": [],
   "source": [
    "day5_pt2"
   ]
  },
  {
   "attachments": {},
   "cell_type": "markdown",
   "metadata": {},
   "source": [
    "# Day 6"
   ]
  },
  {
   "cell_type": "code",
   "execution_count": null,
   "metadata": {},
   "outputs": [],
   "source": [
    "\n",
    "tuning_buffer = open('day6.txt', 'r').readlines()[0]"
   ]
  },
  {
   "cell_type": "code",
   "execution_count": null,
   "metadata": {},
   "outputs": [],
   "source": [
    "# return index (+3) of the first unique set of 4 characters\n",
    "for group in range(0,len(tuning_buffer),4):\n",
    "    # print(group)\n",
    "    unique_chars = len(set(tuning_buffer[group:group+4]))\n",
    "    if unique_chars > 3:\n",
    "        \n",
    "        day6_pt1 = tuning_buffer.index(tuning_buffer[group:group+4]) + 3\n",
    "        break\n",
    "day6_pt1"
   ]
  },
  {
   "cell_type": "code",
   "execution_count": null,
   "metadata": {},
   "outputs": [],
   "source": [
    "len(tuning_buffer[0:14])\n",
    "tuning_buffer[0:14]"
   ]
  },
  {
   "cell_type": "code",
   "execution_count": null,
   "metadata": {},
   "outputs": [],
   "source": [
    "day6_pt2 = 0"
   ]
  },
  {
   "cell_type": "code",
   "execution_count": null,
   "metadata": {},
   "outputs": [],
   "source": [
    "# return index (+3) of the first unique set of 4 characters\n",
    "for group in range(0,len(tuning_buffer)):\n",
    "    # print(group)\n",
    "    unique_chars = len(set(tuning_buffer[group:group+14]))\n",
    "    # print(unique_chars)\n",
    "    if unique_chars > 13:\n",
    "        # print(set(tuning_buffer[group:group+14]))\n",
    "        # print(tuning_buffer[group:group+14])\n",
    "        day6_pt2 = tuning_buffer.index(tuning_buffer[group:group+14]) + 14\n",
    "        break\n",
    "# day6_pt1"
   ]
  },
  {
   "cell_type": "code",
   "execution_count": null,
   "metadata": {},
   "outputs": [],
   "source": [
    "day6_pt2"
   ]
  },
  {
   "attachments": {},
   "cell_type": "markdown",
   "metadata": {},
   "source": [
    "# Day 7"
   ]
  },
  {
   "cell_type": "code",
   "execution_count": null,
   "metadata": {},
   "outputs": [],
   "source": [
    "commands = open('day7.txt', 'r').read().splitlines()\n"
   ]
  },
  {
   "cell_type": "code",
   "execution_count": null,
   "metadata": {},
   "outputs": [],
   "source": [
    "path = '/'\n",
    "size = defaultdict(int)\n",
    "\n",
    "for cmd in commands:\n",
    "    cmd = cmd.split(' ')\n",
    "    if cmd[1] == 'cd':\n",
    "        if cmd[2] == '/':\n",
    "            path = ['/']\n",
    "        elif cmd[2] == '..':\n",
    "            if path == ['']:\n",
    "                continue\n",
    "            else:\n",
    "                path.pop()\n",
    "        else:\n",
    "            path.append(cmd[2])\n",
    "    elif re.match('\\d+', cmd[0]):\n",
    "        for i in range(len(path)):\n",
    "            size['/'.join(path[:i+1]).replace('//','/')] += int(cmd[0])\n",
    "\n",
    "day7_pt1 = sum([size for path, size in size.items() if size < 100000])\n",
    "day7_pt1"
   ]
  },
  {
   "cell_type": "code",
   "execution_count": null,
   "metadata": {},
   "outputs": [],
   "source": [
    "def binary_search_closest_larger(numbers, target):\n",
    "    lower_bound = 0\n",
    "    upper_bound = len(numbers) - 1\n",
    "    while lower_bound < upper_bound:\n",
    "        middle_index = (lower_bound + upper_bound) // 2\n",
    "        if numbers[middle_index] > target:\n",
    "            upper_bound = middle_index\n",
    "        else:\n",
    "            lower_bound = middle_index + 1\n",
    "    return numbers[lower_bound]\n",
    "\n",
    "numbers = list(sorted(size.values()))\n",
    "target = 8381165\n",
    "day7_pt2 = binary_search_closest_larger(numbers, target)\n",
    "\n",
    "# day7_pt2 = min([num for num in numbers if num >= target])"
   ]
  },
  {
   "cell_type": "code",
   "execution_count": null,
   "metadata": {},
   "outputs": [],
   "source": [
    "day7_pt2"
   ]
  },
  {
   "cell_type": "code",
   "execution_count": null,
   "metadata": {},
   "outputs": [],
   "source": [
    "class Session:\n",
    "    def __init__(self, commands, path='/') -> None:\n",
    "        self.commands = commands\n",
    "        self.path = path\n",
    "    def get_commands(self):\n",
    "        return self.commands\n",
    "    def get_path(self):\n",
    "        return self.path\n",
    "    def follow_commands(self):\n",
    "        pass"
   ]
  },
  {
   "attachments": {},
   "cell_type": "markdown",
   "metadata": {},
   "source": [
    "# Day 8"
   ]
  },
  {
   "cell_type": "code",
   "execution_count": null,
   "metadata": {},
   "outputs": [],
   "source": [
    "trees = open('day8.txt','r').read().splitlines()\n",
    "trees = [[int(t) for t in tree] for tree in trees]"
   ]
  },
  {
   "cell_type": "code",
   "execution_count": null,
   "metadata": {},
   "outputs": [],
   "source": [
    "np.array(trees)[1:]\n",
    "t = np.array(trees)\n"
   ]
  },
  {
   "cell_type": "code",
   "execution_count": null,
   "metadata": {},
   "outputs": [],
   "source": [
    "distances = np.zeros((10, t.shape[1]), np.uint)\n"
   ]
  },
  {
   "cell_type": "code",
   "execution_count": null,
   "metadata": {},
   "outputs": [],
   "source": [
    "np.zeros()"
   ]
  },
  {
   "cell_type": "code",
   "execution_count": null,
   "metadata": {},
   "outputs": [],
   "source": [
    "heights = np.repeat(np.arange(10, dtype=np.uint8)[:, None], distances.shape[1], axis=1)\n",
    "heights.shape"
   ]
  },
  {
   "cell_type": "code",
   "execution_count": null,
   "metadata": {},
   "outputs": [],
   "source": [
    "# np.repeat()\n",
    "np.arange()"
   ]
  },
  {
   "cell_type": "code",
   "execution_count": null,
   "metadata": {},
   "outputs": [],
   "source": [
    "t.choose(distances)."
   ]
  },
  {
   "cell_type": "code",
   "execution_count": null,
   "metadata": {},
   "outputs": [],
   "source": [
    "distances"
   ]
  },
  {
   "cell_type": "code",
   "execution_count": null,
   "metadata": {},
   "outputs": [],
   "source": [
    "scenic_score = np.ones_like(trees)\n",
    "scenic_score"
   ]
  },
  {
   "cell_type": "code",
   "execution_count": null,
   "metadata": {},
   "outputs": [],
   "source": [
    "t[1:]"
   ]
  },
  {
   "cell_type": "code",
   "execution_count": null,
   "metadata": {},
   "outputs": [],
   "source": [
    "trees[1:]"
   ]
  },
  {
   "cell_type": "code",
   "execution_count": null,
   "metadata": {},
   "outputs": [],
   "source": [
    "# My own Attempt\n",
    "\n",
    "y_trees = list(map(list, zip(*trees)))\n",
    "x_trees = trees\n",
    "visible = 0\n",
    "for i in range(len(x_trees)):\n",
    "    \n",
    "    for j in range(len(x_trees[0])):\n",
    "        if j == 0 or j == len(x_trees[0]) -1 or i == 0 or i == len(y_trees[0])-1:\n",
    "            visible += 1\n",
    "            continue\n",
    "        if x_trees[i][:j]:\n",
    "            # l_max = max(max(x_trees[i][:j]))\n",
    "            if x_trees[i][j] > max(x_trees[i][:j]):\n",
    "                visible += 1\n",
    "                continue\n",
    "\n",
    "        if x_trees[i][j:]:\n",
    "            if x_trees[i][j] > max(x_trees[i][j+1:]):\n",
    "                visible += 1\n",
    "                continue\n",
    "\n",
    "        if y_trees[j][:i]:\n",
    "            if y_trees[j][i] > max(y_trees[j][:i]):\n",
    "                visible += 1\n",
    "                continue\n",
    "\n",
    "        if y_trees[j][i:]:\n",
    "            if y_trees[j][i] > max(y_trees[j][i+1:]):\n",
    "                visible += 1\n",
    "                continue\n",
    "print(visible)\n",
    "pt1 = visible"
   ]
  },
  {
   "cell_type": "code",
   "execution_count": null,
   "metadata": {},
   "outputs": [],
   "source": [
    "# A Working Solution from https://github.com/jonathanpaulson/AdventOfCode/blob/master/2022/8.py \n",
    "\n",
    "#!/usr/bin/python3\n",
    "import sys\n",
    "from collections import defaultdict\n",
    "\n",
    "DIR = [(-1,0),(0,1),(1,0),(0,-1)]\n",
    "R = len(trees)\n",
    "C = len(trees[0])\n",
    "\n",
    "p1 = 0\n",
    "for r in range(R):\n",
    "    for c in range(C):\n",
    "        vis = False\n",
    "        for (dr,dc) in DIR:\n",
    "            rr = r\n",
    "            cc = c\n",
    "            ok = True\n",
    "            while True:\n",
    "                rr += dr\n",
    "                cc += dc\n",
    "                if not (0<=rr<R and 0<=cc<C):\n",
    "                    break\n",
    "                if trees[rr][cc] >= trees[r][c]:\n",
    "                    ok = False\n",
    "            if ok:\n",
    "                vis = True\n",
    "        if vis:\n",
    "            p1 += 1\n",
    "print(p1)\n",
    "\n",
    "# p2 = 0\n",
    "# for r in range(R):\n",
    "#     for c in range(C):\n",
    "#         score = 1\n",
    "#         for (dr,dc) in DIR:\n",
    "#             dist = 1\n",
    "#             rr = r+dr\n",
    "#             cc = c+dc\n",
    "#             while True:\n",
    "#                 if not (0<=rr<R and 0<=cc<C):\n",
    "#                     dist -= 1\n",
    "#                     break\n",
    "#                 if G[rr][cc]>=G[r][c]:\n",
    "#                     break\n",
    "#                 dist += 1\n",
    "#                 rr += dr\n",
    "#                 cc += dc\n",
    "#             score *= dist\n",
    "#         p2 = max(p2, score)\n",
    "# print(p2)"
   ]
  },
  {
   "cell_type": "code",
   "execution_count": null,
   "metadata": {},
   "outputs": [],
   "source": [
    "left_height = -1\n",
    "\n",
    "sum([True for tree in trees[0] if int(tree) > left_height])"
   ]
  },
  {
   "cell_type": "code",
   "execution_count": null,
   "metadata": {},
   "outputs": [],
   "source": [
    "list(map(list, zip(*trees)))[0]\n"
   ]
  },
  {
   "cell_type": "code",
   "execution_count": null,
   "metadata": {},
   "outputs": [],
   "source": [
    "trees1 = [int(tree) for tree in list(trees[0])]"
   ]
  },
  {
   "cell_type": "code",
   "execution_count": null,
   "metadata": {},
   "outputs": [],
   "source": [
    "pd.Series(trees1)"
   ]
  },
  {
   "cell_type": "code",
   "execution_count": null,
   "metadata": {},
   "outputs": [],
   "source": [
    "pd.Series(trees[0])"
   ]
  },
  {
   "cell_type": "code",
   "execution_count": null,
   "metadata": {},
   "outputs": [],
   "source": [
    "matrix = [3,0,3,7,3,\n",
    "2,5,5,1,2\n",
    ",6,5,3,3,2\n",
    ",3,3,5,4,9\n",
    ",3,5,3,9,0]"
   ]
  },
  {
   "cell_type": "code",
   "execution_count": null,
   "metadata": {},
   "outputs": [],
   "source": [
    "matrix"
   ]
  },
  {
   "cell_type": "code",
   "execution_count": null,
   "metadata": {},
   "outputs": [],
   "source": [
    "\n",
    "[x for x in zip(matrix,matrix)]"
   ]
  },
  {
   "cell_type": "code",
   "execution_count": null,
   "metadata": {},
   "outputs": [],
   "source": []
  }
 ],
 "metadata": {
  "kernelspec": {
   "display_name": "base",
   "language": "python",
   "name": "python3"
  },
  "language_info": {
   "codemirror_mode": {
    "name": "ipython",
    "version": 3
   },
   "file_extension": ".py",
   "mimetype": "text/x-python",
   "name": "python",
   "nbconvert_exporter": "python",
   "pygments_lexer": "ipython3",
   "version": "3.8.13"
  },
  "orig_nbformat": 4,
  "vscode": {
   "interpreter": {
    "hash": "111689e04d53b94374f6db4ace6bfb63a98d0313076d9854b4ae2fb53d40a4a5"
   }
  }
 },
 "nbformat": 4,
 "nbformat_minor": 2
}
