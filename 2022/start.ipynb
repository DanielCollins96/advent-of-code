{
 "cells": [
  {
   "cell_type": "code",
   "execution_count": 168,
   "metadata": {},
   "outputs": [],
   "source": [
    "import pandas as pd\n",
    "from textwrap import wrap\n"
   ]
  },
  {
   "attachments": {},
   "cell_type": "markdown",
   "metadata": {},
   "source": [
    "# Day 1"
   ]
  },
  {
   "cell_type": "code",
   "execution_count": null,
   "metadata": {},
   "outputs": [],
   "source": [
    "day1_data = open('day1.txt', 'r').read().split('\\n\\n')"
   ]
  },
  {
   "cell_type": "code",
   "execution_count": null,
   "metadata": {},
   "outputs": [],
   "source": [
    "answer_1 = max([sum([int(cal) for cal in group.split('\\n')]) for group in day1_data])\n",
    "answer_1"
   ]
  },
  {
   "cell_type": "code",
   "execution_count": null,
   "metadata": {},
   "outputs": [],
   "source": [
    "elf_calorie_list = [sum([int(cal) for cal in group.split('\\n')]) for group in day1_data]\n",
    "answer_2 = sum(sorted(elf_calorie_list, reverse=True)[:3])"
   ]
  },
  {
   "attachments": {},
   "cell_type": "markdown",
   "metadata": {},
   "source": [
    "# Day 2"
   ]
  },
  {
   "cell_type": "code",
   "execution_count": null,
   "metadata": {},
   "outputs": [],
   "source": [
    "# a/x = 'rock'\n",
    "# b/y = 'paper'\n",
    "# c/z = 'scissor'\n",
    "# rock = 1, paper = 2, scissors = 3\n",
    "# x = lose, y = draw, z = win\n",
    "point_dict = {\n",
    "    'A X': 4,\n",
    "    'A Y': 8,\n",
    "    'A Z': 3,\n",
    "    'B X': 1,\n",
    "    'B Y': 5,\n",
    "    'B Z': 9,\n",
    "    'C X': 7,\n",
    "    'C Y': 2,\n",
    "    'C Z': 6,\n",
    "}\n",
    "win_dict = {\n",
    "    'A X': 3,\n",
    "    'A Y': 4,\n",
    "    'A Z': 8,\n",
    "    'B X': 1,\n",
    "    'B Y': 5,\n",
    "    'B Z': 9,\n",
    "    'C X': 2,\n",
    "    'C Y': 6,\n",
    "    'C Z': 7,\n",
    "}"
   ]
  },
  {
   "cell_type": "code",
   "execution_count": null,
   "metadata": {},
   "outputs": [],
   "source": [
    "rock_paper_scissors = open('day2.txt', 'r').read().split('\\n')"
   ]
  },
  {
   "cell_type": "code",
   "execution_count": null,
   "metadata": {},
   "outputs": [],
   "source": [
    "day2_p1 = sum([rock_paper_scissors.count(x) * y for x,y in point_dict.items()])\n",
    "day2_p2 = sum([rock_paper_scissors.count(x) * y for x,y in win_dict.items()])"
   ]
  },
  {
   "cell_type": "code",
   "execution_count": null,
   "metadata": {},
   "outputs": [],
   "source": [
    "day2_p2"
   ]
  },
  {
   "attachments": {},
   "cell_type": "markdown",
   "metadata": {},
   "source": [
    "# Day 3"
   ]
  },
  {
   "cell_type": "code",
   "execution_count": null,
   "metadata": {},
   "outputs": [],
   "source": [
    "rucksacks = open('day3.txt', 'r').read().split('\\n')"
   ]
  },
  {
   "cell_type": "code",
   "execution_count": null,
   "metadata": {},
   "outputs": [],
   "source": [
    "value_dict = {\n",
    "    'a' : 1,    \n",
    "    'b' : 2,\n",
    "    'c' : 3,\n",
    "    'd' : 4,\n",
    "    'e' : 5,\n",
    "    'f' : 6,\n",
    "    'g' : 7,\n",
    "    'h' : 8,\n",
    "    'i' : 9,\n",
    "    'j' : 10,\n",
    "    'k' : 11,\n",
    "    'l' : 12,\n",
    "    'm' : 13,\n",
    "    'n' : 14,\n",
    "    'o' : 15,\n",
    "    'p' : 16,\n",
    "    'q' : 17,\n",
    "    'r' : 18,\n",
    "    's' : 19,\n",
    "    't' : 20,\n",
    "    'u' : 21,\n",
    "    'v' : 22,\n",
    "    'w' : 23,\n",
    "    'x' : 24,\n",
    "    'y' : 25,\n",
    "    'z' : 26,\n",
    "    'A' : 27,\n",
    "    'B' : 28,\n",
    "    'C' : 29,\n",
    "    'D' : 30,\n",
    "    'E' : 31,\n",
    "    'F' : 32,\n",
    "    'G' : 33,\n",
    "    'H' : 34,\n",
    "    'I' : 35,\n",
    "    'J' : 36,\n",
    "    'K' : 37,\n",
    "    'L' : 38,\n",
    "    'M' : 39,\n",
    "    'N' : 40,\n",
    "    'O' : 41,\n",
    "    'P' : 42,\n",
    "    'Q' : 43,\n",
    "    'R' : 44,\n",
    "    'S' : 45,\n",
    "    'T' : 46,\n",
    "    'U' : 47,\n",
    "    'V' : 48,\n",
    "    'W' : 49,\n",
    "    'X' : 50,\n",
    "    'Y' : 51,\n",
    "    'Z' : 52,\n",
    "}"
   ]
  },
  {
   "cell_type": "code",
   "execution_count": null,
   "metadata": {},
   "outputs": [],
   "source": [
    "# split rucksacks in half and sum the intersection\n",
    "rucksack_chars = [(set(x[:int(len(x)/2)]).intersection(set(x[int(len(x)/2):]))) for x in rucksacks]\n",
    "pt1_answer = sum([value_dict[x.pop()] for x in rucksack_chars])"
   ]
  },
  {
   "cell_type": "code",
   "execution_count": null,
   "metadata": {},
   "outputs": [],
   "source": [
    "pt2_answer = sum([value_dict[list(set(rucksacks[i]).intersection(set(rucksacks[i+1])).intersection(set(rucksacks[i+2])))[0]] for i in range(0,len(rucksacks)-2, 3)])"
   ]
  },
  {
   "attachments": {},
   "cell_type": "markdown",
   "metadata": {},
   "source": [
    "# Day 4"
   ]
  },
  {
   "cell_type": "code",
   "execution_count": null,
   "metadata": {},
   "outputs": [],
   "source": [
    "\n",
    "cleanup_list = open('day4.txt', 'r').read().split('\\n').split('-')\n",
    "# cleanup_list = open('day4.txt', 'r').read()"
   ]
  },
  {
   "cell_type": "code",
   "execution_count": null,
   "metadata": {},
   "outputs": [],
   "source": [
    "clean_cleanup_list = [[[int(n.split('-')[0]),int(n.split('-')[1])] for n in a.split(',')] for a in cleanup_list]"
   ]
  },
  {
   "cell_type": "code",
   "execution_count": 130,
   "metadata": {},
   "outputs": [],
   "source": [
    "# This checks both lists to see if the starting room is part of the others lists\n",
    "day4_pt1 = sum([a[0][0] <= a[1][0] and a[0][1] >= a[1][1] or a[1][0] <= a[0][0] and a[1][1] >= a[0][1] for a in clean_cleanup_list])"
   ]
  },
  {
   "cell_type": "code",
   "execution_count": 131,
   "metadata": {},
   "outputs": [
    {
     "data": {
      "text/plain": [
       "569"
      ]
     },
     "execution_count": 131,
     "metadata": {},
     "output_type": "execute_result"
    }
   ],
   "source": [
    "day4_pt1"
   ]
  },
  {
   "cell_type": "code",
   "execution_count": 135,
   "metadata": {},
   "outputs": [
    {
     "data": {
      "text/plain": [
       "936"
      ]
     },
     "execution_count": 135,
     "metadata": {},
     "output_type": "execute_result"
    }
   ],
   "source": [
    "day4_pt2 = sum([a[1][0] <= a[0][0] <= a[1][1] or a[0][1] >= a[1][0] >= a[0][0] for a in clean_cleanup_list])\n",
    "day4_pt2"
   ]
  },
  {
   "attachments": {},
   "cell_type": "markdown",
   "metadata": {},
   "source": [
    "# Day 5"
   ]
  },
  {
   "cell_type": "code",
   "execution_count": 157,
   "metadata": {},
   "outputs": [],
   "source": [
    "supply_stacks = open('day5.txt', 'r').read().splitlines()"
   ]
  },
  {
   "cell_type": "code",
   "execution_count": 158,
   "metadata": {},
   "outputs": [
    {
     "data": {
      "text/plain": [
       "['[N]     [C]                 [Q]    ',\n",
       " '[W]     [J] [L]             [J] [V]',\n",
       " '[F]     [N] [D]     [L]     [S] [W]',\n",
       " '[R] [S] [F] [G]     [R]     [V] [Z]',\n",
       " '[Z] [G] [Q] [C]     [W] [C] [F] [G]',\n",
       " '[S] [Q] [V] [P] [S] [F] [D] [R] [S]',\n",
       " '[M] [P] [R] [Z] [P] [D] [N] [N] [M]',\n",
       " '[D] [W] [W] [F] [T] [H] [Z] [W] [R]',\n",
       " ' 1   2   3   4   5   6   7   8   9 ',\n",
       " '',\n",
       " 'move 1 from 3 to 9',\n",
       " 'move 3 from 5 to 3',\n",
       " 'move 4 from 2 to 5',\n",
       " 'move 4 from 1 to 2',\n",
       " 'move 3 from 5 to 7',\n",
       " 'move 3 from 1 to 2',\n",
       " 'move 4 from 8 to 7',\n",
       " 'move 4 from 9 to 7',\n",
       " 'move 4 from 2 to 7',\n",
       " 'move 2 from 3 to 6',\n",
       " 'move 3 from 6 to 2',\n",
       " 'move 5 from 4 to 7',\n",
       " 'move 7 from 3 to 7',\n",
       " 'move 5 from 6 to 9',\n",
       " 'move 2 from 4 to 8',\n",
       " 'move 1 from 3 to 2',\n",
       " 'move 4 from 2 to 7',\n",
       " 'move 2 from 2 to 8',\n",
       " 'move 8 from 8 to 5',\n",
       " 'move 1 from 2 to 4',\n",
       " 'move 1 from 2 to 9',\n",
       " 'move 7 from 5 to 4',\n",
       " 'move 31 from 7 to 1',\n",
       " 'move 9 from 9 to 3',\n",
       " 'move 12 from 1 to 9',\n",
       " 'move 15 from 1 to 7',\n",
       " 'move 4 from 3 to 8',\n",
       " 'move 2 from 5 to 1',\n",
       " 'move 12 from 7 to 5',\n",
       " 'move 2 from 8 to 2',\n",
       " 'move 12 from 5 to 4',\n",
       " 'move 1 from 3 to 5',\n",
       " 'move 6 from 1 to 3',\n",
       " 'move 1 from 1 to 5',\n",
       " 'move 1 from 8 to 7',\n",
       " 'move 1 from 8 to 5',\n",
       " 'move 7 from 7 to 8',\n",
       " 'move 5 from 8 to 2',\n",
       " 'move 11 from 4 to 2',\n",
       " 'move 10 from 3 to 1',\n",
       " 'move 1 from 7 to 5',\n",
       " 'move 10 from 1 to 3',\n",
       " 'move 5 from 4 to 2',\n",
       " 'move 1 from 4 to 6',\n",
       " 'move 7 from 2 to 3',\n",
       " 'move 9 from 9 to 5',\n",
       " 'move 15 from 2 to 3',\n",
       " 'move 1 from 9 to 1',\n",
       " 'move 7 from 5 to 3',\n",
       " 'move 1 from 2 to 4',\n",
       " 'move 2 from 9 to 2',\n",
       " 'move 1 from 8 to 9',\n",
       " 'move 5 from 5 to 3',\n",
       " 'move 1 from 8 to 7',\n",
       " 'move 1 from 2 to 4',\n",
       " 'move 1 from 7 to 6',\n",
       " 'move 1 from 1 to 6',\n",
       " 'move 1 from 6 to 9',\n",
       " 'move 1 from 5 to 4',\n",
       " 'move 1 from 6 to 4',\n",
       " 'move 1 from 6 to 8',\n",
       " 'move 2 from 9 to 4',\n",
       " 'move 12 from 3 to 1',\n",
       " 'move 8 from 4 to 8',\n",
       " 'move 1 from 9 to 8',\n",
       " 'move 10 from 8 to 6',\n",
       " 'move 1 from 6 to 7',\n",
       " 'move 6 from 6 to 9',\n",
       " 'move 1 from 2 to 7',\n",
       " 'move 1 from 4 to 7',\n",
       " 'move 2 from 7 to 3',\n",
       " 'move 1 from 1 to 3',\n",
       " 'move 6 from 9 to 1',\n",
       " 'move 2 from 6 to 7',\n",
       " 'move 12 from 1 to 3',\n",
       " 'move 5 from 1 to 9',\n",
       " 'move 1 from 7 to 3',\n",
       " 'move 38 from 3 to 7',\n",
       " 'move 19 from 7 to 8',\n",
       " 'move 19 from 8 to 2',\n",
       " 'move 1 from 9 to 6',\n",
       " 'move 5 from 3 to 7',\n",
       " 'move 2 from 6 to 7',\n",
       " 'move 1 from 3 to 9',\n",
       " 'move 2 from 3 to 6',\n",
       " 'move 4 from 2 to 6',\n",
       " 'move 6 from 2 to 4',\n",
       " 'move 14 from 7 to 9',\n",
       " 'move 8 from 2 to 5',\n",
       " 'move 19 from 9 to 3',\n",
       " 'move 6 from 4 to 1',\n",
       " 'move 6 from 1 to 4',\n",
       " 'move 4 from 4 to 3',\n",
       " 'move 10 from 7 to 6',\n",
       " 'move 1 from 6 to 4',\n",
       " 'move 22 from 3 to 1',\n",
       " 'move 5 from 1 to 6',\n",
       " 'move 5 from 5 to 8',\n",
       " 'move 1 from 7 to 4',\n",
       " 'move 1 from 2 to 3',\n",
       " 'move 15 from 6 to 9',\n",
       " 'move 3 from 8 to 4',\n",
       " 'move 2 from 3 to 1',\n",
       " 'move 6 from 9 to 1',\n",
       " 'move 1 from 3 to 9',\n",
       " 'move 1 from 3 to 1',\n",
       " 'move 1 from 5 to 9',\n",
       " 'move 1 from 7 to 1',\n",
       " 'move 1 from 8 to 2',\n",
       " 'move 6 from 9 to 2',\n",
       " 'move 2 from 9 to 1',\n",
       " 'move 3 from 6 to 3',\n",
       " 'move 2 from 9 to 5',\n",
       " 'move 1 from 6 to 7',\n",
       " 'move 2 from 2 to 7',\n",
       " 'move 3 from 3 to 5',\n",
       " 'move 1 from 8 to 9',\n",
       " 'move 7 from 4 to 7',\n",
       " 'move 1 from 6 to 3',\n",
       " 'move 2 from 9 to 5',\n",
       " 'move 10 from 1 to 5',\n",
       " 'move 19 from 1 to 8',\n",
       " 'move 9 from 7 to 1',\n",
       " 'move 1 from 3 to 5',\n",
       " 'move 2 from 2 to 4',\n",
       " 'move 2 from 2 to 6',\n",
       " 'move 2 from 6 to 4',\n",
       " 'move 7 from 1 to 7',\n",
       " 'move 3 from 7 to 3',\n",
       " 'move 2 from 4 to 1',\n",
       " 'move 3 from 3 to 4',\n",
       " 'move 1 from 2 to 4',\n",
       " 'move 2 from 4 to 1',\n",
       " 'move 2 from 4 to 8',\n",
       " 'move 20 from 8 to 2',\n",
       " 'move 1 from 8 to 3',\n",
       " 'move 4 from 7 to 8',\n",
       " 'move 14 from 2 to 6',\n",
       " 'move 3 from 1 to 2',\n",
       " 'move 2 from 1 to 7',\n",
       " 'move 1 from 4 to 6',\n",
       " 'move 1 from 1 to 5',\n",
       " 'move 4 from 2 to 8',\n",
       " 'move 3 from 7 to 6',\n",
       " 'move 1 from 4 to 6',\n",
       " 'move 2 from 7 to 9',\n",
       " 'move 1 from 2 to 6',\n",
       " 'move 1 from 3 to 1',\n",
       " 'move 3 from 5 to 8',\n",
       " 'move 1 from 1 to 4',\n",
       " 'move 2 from 9 to 5',\n",
       " 'move 4 from 6 to 7',\n",
       " 'move 1 from 4 to 1',\n",
       " 'move 1 from 8 to 5',\n",
       " 'move 1 from 7 to 6',\n",
       " 'move 1 from 2 to 9',\n",
       " 'move 2 from 7 to 1',\n",
       " 'move 1 from 1 to 3',\n",
       " 'move 1 from 7 to 2',\n",
       " 'move 4 from 2 to 7',\n",
       " 'move 1 from 1 to 3',\n",
       " 'move 2 from 3 to 2',\n",
       " 'move 9 from 8 to 3',\n",
       " 'move 1 from 8 to 6',\n",
       " 'move 2 from 7 to 3',\n",
       " 'move 1 from 7 to 4',\n",
       " 'move 1 from 9 to 7',\n",
       " 'move 1 from 7 to 2',\n",
       " 'move 2 from 2 to 8',\n",
       " 'move 6 from 5 to 2',\n",
       " 'move 5 from 3 to 7',\n",
       " 'move 1 from 4 to 7',\n",
       " 'move 3 from 7 to 1',\n",
       " 'move 11 from 5 to 8',\n",
       " 'move 2 from 1 to 6',\n",
       " 'move 2 from 1 to 8',\n",
       " 'move 2 from 5 to 9',\n",
       " 'move 1 from 7 to 2',\n",
       " 'move 2 from 5 to 4',\n",
       " 'move 17 from 6 to 7',\n",
       " 'move 1 from 4 to 1',\n",
       " 'move 1 from 1 to 7',\n",
       " 'move 1 from 6 to 5',\n",
       " 'move 1 from 6 to 2',\n",
       " 'move 9 from 2 to 5',\n",
       " 'move 1 from 6 to 7',\n",
       " 'move 9 from 7 to 4',\n",
       " 'move 3 from 7 to 8',\n",
       " 'move 3 from 3 to 4',\n",
       " 'move 8 from 7 to 9',\n",
       " 'move 11 from 8 to 1',\n",
       " 'move 1 from 4 to 3',\n",
       " 'move 1 from 7 to 4',\n",
       " 'move 9 from 9 to 4',\n",
       " 'move 5 from 1 to 7',\n",
       " 'move 8 from 5 to 1',\n",
       " 'move 3 from 3 to 4',\n",
       " 'move 6 from 7 to 9',\n",
       " 'move 3 from 8 to 5',\n",
       " 'move 1 from 3 to 8',\n",
       " 'move 1 from 5 to 8',\n",
       " 'move 2 from 9 to 1',\n",
       " 'move 3 from 9 to 7',\n",
       " 'move 2 from 7 to 9',\n",
       " 'move 3 from 9 to 8',\n",
       " 'move 1 from 7 to 3',\n",
       " 'move 1 from 3 to 9',\n",
       " 'move 7 from 4 to 3',\n",
       " 'move 18 from 4 to 2',\n",
       " 'move 8 from 1 to 6',\n",
       " 'move 1 from 6 to 7',\n",
       " 'move 2 from 3 to 1',\n",
       " 'move 14 from 2 to 6',\n",
       " 'move 5 from 1 to 6',\n",
       " 'move 5 from 3 to 2',\n",
       " 'move 2 from 9 to 5',\n",
       " 'move 3 from 1 to 8',\n",
       " 'move 1 from 7 to 9',\n",
       " 'move 3 from 5 to 1',\n",
       " 'move 4 from 8 to 4',\n",
       " 'move 1 from 2 to 7',\n",
       " 'move 6 from 2 to 5',\n",
       " 'move 2 from 1 to 6',\n",
       " 'move 14 from 6 to 1',\n",
       " 'move 2 from 4 to 7',\n",
       " 'move 2 from 4 to 6',\n",
       " 'move 12 from 1 to 6',\n",
       " 'move 8 from 8 to 3',\n",
       " 'move 11 from 6 to 1',\n",
       " 'move 1 from 1 to 6',\n",
       " 'move 15 from 6 to 9',\n",
       " 'move 3 from 7 to 3',\n",
       " 'move 11 from 1 to 4',\n",
       " 'move 3 from 5 to 3',\n",
       " 'move 10 from 9 to 5',\n",
       " 'move 2 from 6 to 9',\n",
       " 'move 2 from 2 to 5',\n",
       " 'move 6 from 3 to 7',\n",
       " 'move 7 from 9 to 3',\n",
       " 'move 2 from 1 to 8',\n",
       " 'move 1 from 9 to 6',\n",
       " 'move 12 from 3 to 4',\n",
       " 'move 13 from 5 to 6',\n",
       " 'move 2 from 7 to 4',\n",
       " 'move 3 from 7 to 5',\n",
       " 'move 2 from 8 to 4',\n",
       " 'move 15 from 6 to 5',\n",
       " 'move 22 from 4 to 5',\n",
       " 'move 2 from 3 to 6',\n",
       " 'move 1 from 7 to 8',\n",
       " 'move 2 from 1 to 2',\n",
       " 'move 13 from 5 to 3',\n",
       " 'move 1 from 8 to 6',\n",
       " 'move 1 from 6 to 4',\n",
       " 'move 1 from 2 to 7',\n",
       " 'move 7 from 5 to 2',\n",
       " 'move 4 from 4 to 8',\n",
       " 'move 1 from 6 to 3',\n",
       " 'move 3 from 5 to 6',\n",
       " 'move 2 from 8 to 9',\n",
       " 'move 4 from 5 to 1',\n",
       " 'move 1 from 9 to 8',\n",
       " 'move 4 from 2 to 5',\n",
       " 'move 1 from 7 to 6',\n",
       " 'move 4 from 6 to 3',\n",
       " 'move 1 from 6 to 9',\n",
       " 'move 1 from 9 to 6',\n",
       " 'move 4 from 1 to 6',\n",
       " 'move 1 from 9 to 4',\n",
       " 'move 4 from 6 to 3',\n",
       " 'move 1 from 6 to 4',\n",
       " 'move 14 from 5 to 6',\n",
       " 'move 23 from 3 to 1',\n",
       " 'move 2 from 5 to 6',\n",
       " 'move 1 from 4 to 2',\n",
       " 'move 6 from 5 to 7',\n",
       " 'move 16 from 6 to 5',\n",
       " 'move 2 from 2 to 6',\n",
       " 'move 2 from 6 to 1',\n",
       " 'move 2 from 2 to 4',\n",
       " 'move 1 from 2 to 8',\n",
       " 'move 15 from 1 to 3',\n",
       " 'move 4 from 8 to 2',\n",
       " 'move 9 from 1 to 8',\n",
       " 'move 12 from 5 to 7',\n",
       " 'move 2 from 5 to 1',\n",
       " 'move 1 from 4 to 6',\n",
       " 'move 1 from 5 to 6',\n",
       " 'move 3 from 7 to 3',\n",
       " 'move 2 from 8 to 6',\n",
       " 'move 1 from 2 to 3',\n",
       " 'move 2 from 3 to 5',\n",
       " 'move 3 from 1 to 9',\n",
       " 'move 12 from 3 to 9',\n",
       " 'move 4 from 9 to 7',\n",
       " 'move 2 from 9 to 5',\n",
       " 'move 4 from 8 to 5',\n",
       " 'move 8 from 7 to 2',\n",
       " 'move 6 from 5 to 8',\n",
       " 'move 2 from 5 to 7',\n",
       " 'move 12 from 7 to 1',\n",
       " 'move 2 from 6 to 7',\n",
       " 'move 11 from 2 to 4',\n",
       " 'move 1 from 6 to 5',\n",
       " 'move 1 from 5 to 8',\n",
       " 'move 10 from 8 to 6',\n",
       " 'move 7 from 1 to 9',\n",
       " 'move 3 from 3 to 8',\n",
       " 'move 2 from 7 to 4',\n",
       " 'move 1 from 5 to 3',\n",
       " 'move 9 from 4 to 7',\n",
       " 'move 16 from 9 to 6',\n",
       " 'move 2 from 1 to 6',\n",
       " 'move 1 from 7 to 8',\n",
       " 'move 2 from 4 to 1',\n",
       " 'move 1 from 1 to 5',\n",
       " 'move 1 from 5 to 7',\n",
       " 'move 2 from 3 to 9',\n",
       " 'move 5 from 4 to 6',\n",
       " 'move 1 from 3 to 6',\n",
       " 'move 1 from 4 to 5',\n",
       " 'move 1 from 5 to 8',\n",
       " 'move 16 from 6 to 5',\n",
       " 'move 2 from 7 to 6',\n",
       " 'move 21 from 6 to 2',\n",
       " 'move 3 from 8 to 7',\n",
       " 'move 1 from 9 to 1',\n",
       " 'move 7 from 7 to 1',\n",
       " 'move 14 from 2 to 5',\n",
       " 'move 1 from 9 to 3',\n",
       " 'move 1 from 3 to 1',\n",
       " 'move 1 from 8 to 3',\n",
       " 'move 2 from 2 to 6',\n",
       " 'move 15 from 5 to 1',\n",
       " 'move 20 from 1 to 8',\n",
       " 'move 1 from 3 to 5',\n",
       " 'move 4 from 2 to 8',\n",
       " 'move 2 from 1 to 2',\n",
       " 'move 2 from 6 to 8',\n",
       " 'move 3 from 7 to 6',\n",
       " 'move 2 from 6 to 7',\n",
       " 'move 1 from 7 to 2',\n",
       " 'move 6 from 5 to 6',\n",
       " 'move 3 from 5 to 9',\n",
       " 'move 2 from 9 to 6',\n",
       " 'move 1 from 9 to 4',\n",
       " 'move 2 from 2 to 3',\n",
       " 'move 1 from 3 to 2',\n",
       " 'move 2 from 1 to 4',\n",
       " 'move 1 from 3 to 9',\n",
       " 'move 2 from 4 to 7',\n",
       " 'move 4 from 8 to 4',\n",
       " 'move 8 from 8 to 6',\n",
       " 'move 5 from 6 to 9',\n",
       " 'move 6 from 6 to 7',\n",
       " 'move 6 from 6 to 3',\n",
       " 'move 5 from 3 to 2',\n",
       " 'move 2 from 2 to 3',\n",
       " 'move 10 from 7 to 1',\n",
       " 'move 2 from 5 to 2',\n",
       " 'move 2 from 4 to 1',\n",
       " 'move 5 from 5 to 9',\n",
       " 'move 2 from 3 to 5',\n",
       " 'move 2 from 9 to 4',\n",
       " 'move 5 from 4 to 8',\n",
       " 'move 8 from 9 to 6',\n",
       " 'move 16 from 1 to 9',\n",
       " 'move 7 from 2 to 7',\n",
       " 'move 10 from 9 to 4',\n",
       " 'move 10 from 4 to 8',\n",
       " 'move 1 from 7 to 3',\n",
       " 'move 1 from 2 to 5',\n",
       " 'move 3 from 5 to 7',\n",
       " 'move 2 from 3 to 6',\n",
       " 'move 5 from 7 to 4',\n",
       " 'move 4 from 4 to 5',\n",
       " 'move 17 from 8 to 3',\n",
       " 'move 9 from 6 to 2',\n",
       " 'move 17 from 3 to 9',\n",
       " 'move 9 from 8 to 3',\n",
       " 'move 2 from 5 to 6',\n",
       " 'move 1 from 5 to 8',\n",
       " 'move 5 from 2 to 4',\n",
       " 'move 1 from 6 to 9',\n",
       " 'move 3 from 9 to 5',\n",
       " 'move 3 from 7 to 4',\n",
       " 'move 13 from 9 to 3',\n",
       " 'move 3 from 9 to 2',\n",
       " 'move 1 from 9 to 8',\n",
       " 'move 2 from 6 to 4',\n",
       " 'move 9 from 3 to 4',\n",
       " 'move 3 from 9 to 3',\n",
       " 'move 1 from 8 to 1',\n",
       " 'move 2 from 5 to 2',\n",
       " 'move 5 from 4 to 7',\n",
       " 'move 1 from 9 to 2',\n",
       " 'move 6 from 7 to 2',\n",
       " 'move 1 from 9 to 6',\n",
       " 'move 9 from 2 to 4',\n",
       " 'move 1 from 1 to 7',\n",
       " 'move 1 from 6 to 5',\n",
       " 'move 1 from 7 to 4',\n",
       " 'move 4 from 4 to 2',\n",
       " 'move 12 from 3 to 6',\n",
       " 'move 7 from 2 to 5',\n",
       " 'move 1 from 2 to 1',\n",
       " 'move 1 from 1 to 9',\n",
       " 'move 2 from 2 to 6',\n",
       " 'move 5 from 8 to 2',\n",
       " 'move 8 from 6 to 3',\n",
       " 'move 1 from 9 to 3',\n",
       " 'move 4 from 2 to 7',\n",
       " 'move 1 from 3 to 2',\n",
       " 'move 2 from 2 to 7',\n",
       " 'move 1 from 2 to 5',\n",
       " 'move 3 from 6 to 3',\n",
       " 'move 10 from 5 to 8',\n",
       " 'move 1 from 5 to 3',\n",
       " 'move 1 from 6 to 5',\n",
       " 'move 5 from 8 to 7',\n",
       " 'move 1 from 5 to 8',\n",
       " 'move 2 from 6 to 3',\n",
       " 'move 5 from 7 to 4',\n",
       " 'move 3 from 3 to 6',\n",
       " 'move 2 from 8 to 6',\n",
       " 'move 3 from 8 to 2',\n",
       " 'move 1 from 3 to 7',\n",
       " 'move 15 from 4 to 5',\n",
       " 'move 10 from 4 to 1',\n",
       " 'move 7 from 3 to 5',\n",
       " 'move 1 from 2 to 9',\n",
       " 'move 5 from 5 to 7',\n",
       " 'move 8 from 5 to 9',\n",
       " 'move 4 from 3 to 6',\n",
       " 'move 3 from 9 to 6',\n",
       " 'move 3 from 1 to 4',\n",
       " 'move 10 from 7 to 4',\n",
       " 'move 2 from 2 to 4',\n",
       " 'move 2 from 3 to 5',\n",
       " 'move 1 from 7 to 2',\n",
       " 'move 1 from 7 to 6',\n",
       " 'move 6 from 6 to 5',\n",
       " 'move 7 from 5 to 3',\n",
       " 'move 1 from 8 to 3',\n",
       " 'move 5 from 1 to 6',\n",
       " 'move 9 from 5 to 3',\n",
       " 'move 14 from 4 to 7',\n",
       " 'move 1 from 2 to 8',\n",
       " 'move 1 from 8 to 2',\n",
       " 'move 1 from 6 to 4',\n",
       " 'move 2 from 4 to 7',\n",
       " 'move 1 from 2 to 9',\n",
       " 'move 1 from 4 to 8',\n",
       " 'move 2 from 1 to 4',\n",
       " 'move 8 from 6 to 1',\n",
       " 'move 1 from 4 to 3',\n",
       " 'move 1 from 5 to 8',\n",
       " 'move 12 from 7 to 3',\n",
       " 'move 1 from 4 to 8',\n",
       " 'move 7 from 9 to 1',\n",
       " 'move 3 from 6 to 2',\n",
       " 'move 3 from 8 to 7',\n",
       " 'move 1 from 2 to 9',\n",
       " 'move 4 from 7 to 1',\n",
       " 'move 6 from 1 to 7',\n",
       " 'move 2 from 2 to 8',\n",
       " 'move 7 from 7 to 3',\n",
       " 'move 10 from 1 to 6',\n",
       " 'move 20 from 3 to 1',\n",
       " 'move 2 from 6 to 7',\n",
       " 'move 1 from 9 to 1',\n",
       " 'move 8 from 6 to 8',\n",
       " 'move 6 from 8 to 9',\n",
       " 'move 5 from 3 to 7',\n",
       " 'move 2 from 7 to 3',\n",
       " 'move 2 from 9 to 2',\n",
       " 'move 5 from 1 to 3',\n",
       " 'move 2 from 9 to 8',\n",
       " 'move 8 from 3 to 7',\n",
       " 'move 6 from 8 to 3',\n",
       " 'move 1 from 9 to 8',\n",
       " 'move 19 from 1 to 6',\n",
       " 'move 17 from 3 to 6',\n",
       " 'move 2 from 2 to 4',\n",
       " 'move 1 from 3 to 5',\n",
       " 'move 1 from 4 to 1',\n",
       " 'move 1 from 4 to 8',\n",
       " 'move 2 from 8 to 5',\n",
       " 'move 1 from 5 to 1',\n",
       " 'move 1 from 5 to 4',\n",
       " 'move 1 from 5 to 7',\n",
       " 'move 2 from 1 to 3',\n",
       " 'move 15 from 7 to 4',\n",
       " 'move 1 from 9 to 7',\n",
       " 'move 2 from 7 to 6',\n",
       " 'move 21 from 6 to 4',\n",
       " 'move 17 from 6 to 8',\n",
       " 'move 2 from 3 to 5',\n",
       " 'move 29 from 4 to 9',\n",
       " 'move 15 from 9 to 7',\n",
       " 'move 1 from 5 to 1',\n",
       " 'move 9 from 8 to 2',\n",
       " 'move 10 from 9 to 3',\n",
       " 'move 8 from 2 to 6']"
      ]
     },
     "execution_count": 158,
     "metadata": {},
     "output_type": "execute_result"
    }
   ],
   "source": [
    "supply_stacks"
   ]
  },
  {
   "cell_type": "code",
   "execution_count": 159,
   "metadata": {},
   "outputs": [],
   "source": [
    "board = supply_stacks[:supply_stacks.index('')]\n",
    "moves = supply_stacks[supply_stacks.index('')+1:]"
   ]
  },
  {
   "cell_type": "code",
   "execution_count": 216,
   "metadata": {},
   "outputs": [],
   "source": [
    "board_list = [[board[idx:idx+4].strip() for idx in range(0,len(board),4)] for board in board[:-1]]\n",
    "# [board for board in board[:-1]]"
   ]
  },
  {
   "cell_type": "code",
   "execution_count": 231,
   "metadata": {},
   "outputs": [
    {
     "data": {
      "text/plain": [
       "' 1   2   3   4   5   6   7   8   9 '"
      ]
     },
     "execution_count": 231,
     "metadata": {},
     "output_type": "execute_result"
    }
   ],
   "source": [
    "board[-1]"
   ]
  },
  {
   "cell_type": "code",
   "execution_count": 232,
   "metadata": {},
   "outputs": [
    {
     "data": {
      "text/plain": [
       "{'1': None,\n",
       " '2': None,\n",
       " '3': None,\n",
       " '4': None,\n",
       " '5': None,\n",
       " '6': None,\n",
       " '7': None,\n",
       " '8': None,\n",
       " '9': None}"
      ]
     },
     "execution_count": 232,
     "metadata": {},
     "output_type": "execute_result"
    }
   ],
   "source": [
    "board_dict = dict.fromkeys(board[-1].strip().split('   '))\n",
    "board_dict"
   ]
  },
  {
   "cell_type": "code",
   "execution_count": 233,
   "metadata": {},
   "outputs": [
    {
     "ename": "KeyError",
     "evalue": "1",
     "output_type": "error",
     "traceback": [
      "\u001b[0;31m---------------------------------------------------------------------------\u001b[0m",
      "\u001b[0;31mKeyError\u001b[0m                                  Traceback (most recent call last)",
      "\u001b[1;32m/Users/danielcollins/Desktop/Programming/advent of code/2022/start.ipynb Cell 29\u001b[0m in \u001b[0;36m<cell line: 2>\u001b[0;34m()\u001b[0m\n\u001b[1;32m      <a href='vscode-notebook-cell:/Users/danielcollins/Desktop/Programming/advent%20of%20code/2022/start.ipynb#X65sZmlsZQ%3D%3D?line=0'>1</a>\u001b[0m board_dict \u001b[39m=\u001b[39m \u001b[39mdict\u001b[39m\u001b[39m.\u001b[39mfromkeys(board[\u001b[39m-\u001b[39m\u001b[39m1\u001b[39m]\u001b[39m.\u001b[39mstrip()\u001b[39m.\u001b[39msplit(\u001b[39m'\u001b[39m\u001b[39m   \u001b[39m\u001b[39m'\u001b[39m))\n\u001b[0;32m----> <a href='vscode-notebook-cell:/Users/danielcollins/Desktop/Programming/advent%20of%20code/2022/start.ipynb#X65sZmlsZQ%3D%3D?line=1'>2</a>\u001b[0m [[board_dict[i\u001b[39m+\u001b[39m\u001b[39m1\u001b[39m]\u001b[39m.\u001b[39mappend(board[i]) \u001b[39mfor\u001b[39;00m i \u001b[39min\u001b[39;00m \u001b[39mrange\u001b[39m(\u001b[39m0\u001b[39m,\u001b[39mlen\u001b[39m(board)) \u001b[39mif\u001b[39;00m board[i] \u001b[39m!=\u001b[39m \u001b[39m'\u001b[39m\u001b[39m'\u001b[39m]  \u001b[39mfor\u001b[39;00m board \u001b[39min\u001b[39;00m board_list]\n",
      "\u001b[1;32m/Users/danielcollins/Desktop/Programming/advent of code/2022/start.ipynb Cell 29\u001b[0m in \u001b[0;36m<listcomp>\u001b[0;34m(.0)\u001b[0m\n\u001b[1;32m      <a href='vscode-notebook-cell:/Users/danielcollins/Desktop/Programming/advent%20of%20code/2022/start.ipynb#X65sZmlsZQ%3D%3D?line=0'>1</a>\u001b[0m board_dict \u001b[39m=\u001b[39m \u001b[39mdict\u001b[39m\u001b[39m.\u001b[39mfromkeys(board[\u001b[39m-\u001b[39m\u001b[39m1\u001b[39m]\u001b[39m.\u001b[39mstrip()\u001b[39m.\u001b[39msplit(\u001b[39m'\u001b[39m\u001b[39m   \u001b[39m\u001b[39m'\u001b[39m))\n\u001b[0;32m----> <a href='vscode-notebook-cell:/Users/danielcollins/Desktop/Programming/advent%20of%20code/2022/start.ipynb#X65sZmlsZQ%3D%3D?line=1'>2</a>\u001b[0m [[board_dict[i\u001b[39m+\u001b[39m\u001b[39m1\u001b[39m]\u001b[39m.\u001b[39mappend(board[i]) \u001b[39mfor\u001b[39;00m i \u001b[39min\u001b[39;00m \u001b[39mrange\u001b[39m(\u001b[39m0\u001b[39m,\u001b[39mlen\u001b[39m(board)) \u001b[39mif\u001b[39;00m board[i] \u001b[39m!=\u001b[39m \u001b[39m'\u001b[39m\u001b[39m'\u001b[39m]  \u001b[39mfor\u001b[39;00m board \u001b[39min\u001b[39;00m board_list]\n",
      "\u001b[1;32m/Users/danielcollins/Desktop/Programming/advent of code/2022/start.ipynb Cell 29\u001b[0m in \u001b[0;36m<listcomp>\u001b[0;34m(.0)\u001b[0m\n\u001b[1;32m      <a href='vscode-notebook-cell:/Users/danielcollins/Desktop/Programming/advent%20of%20code/2022/start.ipynb#X65sZmlsZQ%3D%3D?line=0'>1</a>\u001b[0m board_dict \u001b[39m=\u001b[39m \u001b[39mdict\u001b[39m\u001b[39m.\u001b[39mfromkeys(board[\u001b[39m-\u001b[39m\u001b[39m1\u001b[39m]\u001b[39m.\u001b[39mstrip()\u001b[39m.\u001b[39msplit(\u001b[39m'\u001b[39m\u001b[39m   \u001b[39m\u001b[39m'\u001b[39m))\n\u001b[0;32m----> <a href='vscode-notebook-cell:/Users/danielcollins/Desktop/Programming/advent%20of%20code/2022/start.ipynb#X65sZmlsZQ%3D%3D?line=1'>2</a>\u001b[0m [[board_dict[i\u001b[39m+\u001b[39;49m\u001b[39m1\u001b[39;49m]\u001b[39m.\u001b[39mappend(board[i]) \u001b[39mfor\u001b[39;00m i \u001b[39min\u001b[39;00m \u001b[39mrange\u001b[39m(\u001b[39m0\u001b[39m,\u001b[39mlen\u001b[39m(board)) \u001b[39mif\u001b[39;00m board[i] \u001b[39m!=\u001b[39m \u001b[39m'\u001b[39m\u001b[39m'\u001b[39m]  \u001b[39mfor\u001b[39;00m board \u001b[39min\u001b[39;00m board_list]\n",
      "\u001b[0;31mKeyError\u001b[0m: 1"
     ]
    }
   ],
   "source": [
    "board_dict = dict.fromkeys(board[-1].strip().split('   '))\n",
    "[[board_dict[i+1].append(board[i]) for i in range(0,len(board)) if board[i] != '']  for board in board_list]"
   ]
  },
  {
   "cell_type": "code",
   "execution_count": null,
   "metadata": {},
   "outputs": [],
   "source": [
    "board_dict = {}"
   ]
  },
  {
   "cell_type": "code",
   "execution_count": 167,
   "metadata": {},
   "outputs": [
    {
     "data": {
      "text/plain": [
       "['1', '2', '3', '4', '5', '6', '7', '8', '9']"
      ]
     },
     "execution_count": 167,
     "metadata": {},
     "output_type": "execute_result"
    }
   ],
   "source": [
    "# board[-1][-2]\n",
    "board[-1].strip().split('   ')"
   ]
  },
  {
   "cell_type": "code",
   "execution_count": 178,
   "metadata": {},
   "outputs": [
    {
     "data": {
      "text/plain": [
       "13"
      ]
     },
     "execution_count": 178,
     "metadata": {},
     "output_type": "execute_result"
    }
   ],
   "source": [
    "board[0]\n",
    "len(wrap(board[0],3, drop_whitespace=False))"
   ]
  },
  {
   "cell_type": "code",
   "execution_count": 186,
   "metadata": {},
   "outputs": [
    {
     "data": {
      "text/plain": [
       "['[N] ', '    ', '[C] ', '    ', '    ', '    ', '    ', '[Q] ', '   ']"
      ]
     },
     "execution_count": 186,
     "metadata": {},
     "output_type": "execute_result"
    }
   ],
   "source": [
    "# len([board[0][idx:idx+4] for idx in range(0,len(board[0]),4)])\n",
    "[board[0][idx:idx+4] for idx in range(0,len(board[0]),4)]"
   ]
  },
  {
   "cell_type": "code",
   "execution_count": null,
   "metadata": {},
   "outputs": [],
   "source": [
    "[board for board in board]"
   ]
  },
  {
   "cell_type": "code",
   "execution_count": null,
   "metadata": {},
   "outputs": [],
   "source": []
  }
 ],
 "metadata": {
  "kernelspec": {
   "display_name": "base",
   "language": "python",
   "name": "python3"
  },
  "language_info": {
   "codemirror_mode": {
    "name": "ipython",
    "version": 3
   },
   "file_extension": ".py",
   "mimetype": "text/x-python",
   "name": "python",
   "nbconvert_exporter": "python",
   "pygments_lexer": "ipython3",
   "version": "3.8.13"
  },
  "orig_nbformat": 4,
  "vscode": {
   "interpreter": {
    "hash": "111689e04d53b94374f6db4ace6bfb63a98d0313076d9854b4ae2fb53d40a4a5"
   }
  }
 },
 "nbformat": 4,
 "nbformat_minor": 2
}
