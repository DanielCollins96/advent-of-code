{
 "cells": [
  {
   "cell_type": "code",
   "execution_count": null,
   "metadata": {},
   "outputs": [],
   "source": [
    "import pandas as pd\n",
    "from textwrap import wrap\n",
    "from collections import deque\n",
    "import re"
   ]
  },
  {
   "attachments": {},
   "cell_type": "markdown",
   "metadata": {},
   "source": [
    "# Day 1"
   ]
  },
  {
   "cell_type": "code",
   "execution_count": null,
   "metadata": {},
   "outputs": [],
   "source": [
    "day1_data = open('day1.txt', 'r').read().split('\\n\\n')"
   ]
  },
  {
   "cell_type": "code",
   "execution_count": null,
   "metadata": {},
   "outputs": [],
   "source": [
    "answer_1 = max([sum([int(cal) for cal in group.split('\\n')]) for group in day1_data])\n",
    "answer_1"
   ]
  },
  {
   "cell_type": "code",
   "execution_count": null,
   "metadata": {},
   "outputs": [],
   "source": [
    "elf_calorie_list = [sum([int(cal) for cal in group.split('\\n')]) for group in day1_data]\n",
    "answer_2 = sum(sorted(elf_calorie_list, reverse=True)[:3])"
   ]
  },
  {
   "attachments": {},
   "cell_type": "markdown",
   "metadata": {},
   "source": [
    "# Day 2"
   ]
  },
  {
   "cell_type": "code",
   "execution_count": null,
   "metadata": {},
   "outputs": [],
   "source": [
    "# a/x = 'rock'\n",
    "# b/y = 'paper'\n",
    "# c/z = 'scissor'\n",
    "# rock = 1, paper = 2, scissors = 3\n",
    "# x = lose, y = draw, z = win\n",
    "point_dict = {\n",
    "    'A X': 4,\n",
    "    'A Y': 8,\n",
    "    'A Z': 3,\n",
    "    'B X': 1,\n",
    "    'B Y': 5,\n",
    "    'B Z': 9,\n",
    "    'C X': 7,\n",
    "    'C Y': 2,\n",
    "    'C Z': 6,\n",
    "}\n",
    "win_dict = {\n",
    "    'A X': 3,\n",
    "    'A Y': 4,\n",
    "    'A Z': 8,\n",
    "    'B X': 1,\n",
    "    'B Y': 5,\n",
    "    'B Z': 9,\n",
    "    'C X': 2,\n",
    "    'C Y': 6,\n",
    "    'C Z': 7,\n",
    "}"
   ]
  },
  {
   "cell_type": "code",
   "execution_count": null,
   "metadata": {},
   "outputs": [],
   "source": [
    "rock_paper_scissors = open('day2.txt', 'r').read().split('\\n')"
   ]
  },
  {
   "cell_type": "code",
   "execution_count": null,
   "metadata": {},
   "outputs": [],
   "source": [
    "day2_p1 = sum([rock_paper_scissors.count(x) * y for x,y in point_dict.items()])\n",
    "day2_p2 = sum([rock_paper_scissors.count(x) * y for x,y in win_dict.items()])"
   ]
  },
  {
   "cell_type": "code",
   "execution_count": null,
   "metadata": {},
   "outputs": [],
   "source": [
    "day2_p2"
   ]
  },
  {
   "attachments": {},
   "cell_type": "markdown",
   "metadata": {},
   "source": [
    "# Day 3"
   ]
  },
  {
   "cell_type": "code",
   "execution_count": null,
   "metadata": {},
   "outputs": [],
   "source": [
    "rucksacks = open('day3.txt', 'r').read().split('\\n')"
   ]
  },
  {
   "cell_type": "code",
   "execution_count": null,
   "metadata": {},
   "outputs": [],
   "source": [
    "value_dict = {\n",
    "    'a' : 1,    \n",
    "    'b' : 2,\n",
    "    'c' : 3,\n",
    "    'd' : 4,\n",
    "    'e' : 5,\n",
    "    'f' : 6,\n",
    "    'g' : 7,\n",
    "    'h' : 8,\n",
    "    'i' : 9,\n",
    "    'j' : 10,\n",
    "    'k' : 11,\n",
    "    'l' : 12,\n",
    "    'm' : 13,\n",
    "    'n' : 14,\n",
    "    'o' : 15,\n",
    "    'p' : 16,\n",
    "    'q' : 17,\n",
    "    'r' : 18,\n",
    "    's' : 19,\n",
    "    't' : 20,\n",
    "    'u' : 21,\n",
    "    'v' : 22,\n",
    "    'w' : 23,\n",
    "    'x' : 24,\n",
    "    'y' : 25,\n",
    "    'z' : 26,\n",
    "    'A' : 27,\n",
    "    'B' : 28,\n",
    "    'C' : 29,\n",
    "    'D' : 30,\n",
    "    'E' : 31,\n",
    "    'F' : 32,\n",
    "    'G' : 33,\n",
    "    'H' : 34,\n",
    "    'I' : 35,\n",
    "    'J' : 36,\n",
    "    'K' : 37,\n",
    "    'L' : 38,\n",
    "    'M' : 39,\n",
    "    'N' : 40,\n",
    "    'O' : 41,\n",
    "    'P' : 42,\n",
    "    'Q' : 43,\n",
    "    'R' : 44,\n",
    "    'S' : 45,\n",
    "    'T' : 46,\n",
    "    'U' : 47,\n",
    "    'V' : 48,\n",
    "    'W' : 49,\n",
    "    'X' : 50,\n",
    "    'Y' : 51,\n",
    "    'Z' : 52,\n",
    "}"
   ]
  },
  {
   "cell_type": "code",
   "execution_count": null,
   "metadata": {},
   "outputs": [],
   "source": [
    "# split rucksacks in half and sum the intersection\n",
    "rucksack_chars = [(set(x[:int(len(x)/2)]).intersection(set(x[int(len(x)/2):]))) for x in rucksacks]\n",
    "pt1_answer = sum([value_dict[x.pop()] for x in rucksack_chars])"
   ]
  },
  {
   "cell_type": "code",
   "execution_count": null,
   "metadata": {},
   "outputs": [],
   "source": [
    "pt2_answer = sum([value_dict[list(set(rucksacks[i]).intersection(set(rucksacks[i+1])).intersection(set(rucksacks[i+2])))[0]] for i in range(0,len(rucksacks)-2, 3)])"
   ]
  },
  {
   "attachments": {},
   "cell_type": "markdown",
   "metadata": {},
   "source": [
    "# Day 4"
   ]
  },
  {
   "cell_type": "code",
   "execution_count": null,
   "metadata": {},
   "outputs": [],
   "source": [
    "\n",
    "cleanup_list = open('day4.txt', 'r').read().split('\\n').split('-')\n",
    "# cleanup_list = open('day4.txt', 'r').read()"
   ]
  },
  {
   "cell_type": "code",
   "execution_count": null,
   "metadata": {},
   "outputs": [],
   "source": [
    "clean_cleanup_list = [[[int(n.split('-')[0]),int(n.split('-')[1])] for n in a.split(',')] for a in cleanup_list]"
   ]
  },
  {
   "cell_type": "code",
   "execution_count": null,
   "metadata": {},
   "outputs": [],
   "source": [
    "# This checks both lists to see if the starting room is part of the others lists\n",
    "day4_pt1 = sum([a[0][0] <= a[1][0] and a[0][1] >= a[1][1] or a[1][0] <= a[0][0] and a[1][1] >= a[0][1] for a in clean_cleanup_list])"
   ]
  },
  {
   "cell_type": "code",
   "execution_count": null,
   "metadata": {},
   "outputs": [],
   "source": [
    "day4_pt1"
   ]
  },
  {
   "cell_type": "code",
   "execution_count": null,
   "metadata": {},
   "outputs": [],
   "source": [
    "day4_pt2 = sum([a[1][0] <= a[0][0] <= a[1][1] or a[0][1] >= a[1][0] >= a[0][0] for a in clean_cleanup_list])\n",
    "day4_pt2"
   ]
  },
  {
   "attachments": {},
   "cell_type": "markdown",
   "metadata": {},
   "source": [
    "# Day 5"
   ]
  },
  {
   "cell_type": "code",
   "execution_count": null,
   "metadata": {},
   "outputs": [],
   "source": [
    "supply_stacks = open('day5.txt', 'r').read().splitlines()"
   ]
  },
  {
   "cell_type": "code",
   "execution_count": null,
   "metadata": {},
   "outputs": [],
   "source": [
    "board = supply_stacks[:supply_stacks.index('')]\n",
    "moves = supply_stacks[supply_stacks.index('')+1:]"
   ]
  },
  {
   "cell_type": "code",
   "execution_count": 475,
   "metadata": {},
   "outputs": [
    {
     "name": "stdout",
     "output_type": "stream",
     "text": [
      "1\n",
      "2\n",
      "3\n",
      "4\n",
      "5\n",
      "6\n",
      "7\n",
      "8\n",
      "9\n"
     ]
    }
   ],
   "source": [
    "# Organize board_dict to match the order of stacks\n",
    "board_list = [[board[idx:idx+4].strip() for idx in range(0,len(board),4)] for board in board[:-1]]\n",
    "board_dict = dict.fromkeys(board[-1].strip().split('   '))\n",
    "\n",
    "for i,row in enumerate([[row[i] for row in board_list if row[i] != '']for i in range(len(board_list[0]))]):\n",
    "    print(i+1)\n",
    "    board_dict[str(i+1)] = row"
   ]
  },
  {
   "cell_type": "code",
   "execution_count": 473,
   "metadata": {},
   "outputs": [],
   "source": [
    "# Apply the box movements to the board_dict\n",
    "for i in moves:\n",
    "    try:\n",
    "        move,frm,to = re.findall('\\d{1,3}',i)\n",
    "        board_dict[to][:0] = list(reversed(board_dict[frm][:int(move)]))\n",
    "        del board_dict[frm][:int(move)]\n",
    "    except Exception as E:\n",
    "        print(E)\n",
    "\n",
    "# removing the extra brackets from the result\n",
    "day5_pt1 = ''.join([value[0] for key,value in board_dict.items()]).replace(\"[\",'').replace(\"]\",'')\n"
   ]
  },
  {
   "cell_type": "code",
   "execution_count": 474,
   "metadata": {},
   "outputs": [
    {
     "data": {
      "text/plain": [
       "'FWNSHLDNZ'"
      ]
     },
     "execution_count": 474,
     "metadata": {},
     "output_type": "execute_result"
    }
   ],
   "source": [
    "day5_pt1"
   ]
  },
  {
   "cell_type": "code",
   "execution_count": 476,
   "metadata": {},
   "outputs": [],
   "source": [
    "# Apply the box movements to the board_dict without the reverse for pt2 (re-run the board_dict cell before)\n",
    "for i in moves:\n",
    "    try:\n",
    "        move,frm,to = re.findall('\\d{1,3}',i)\n",
    "        board_dict[to][:0] = board_dict[frm][:int(move)]\n",
    "        del board_dict[frm][:int(move)]\n",
    "    except Exception as E:\n",
    "        print(E)"
   ]
  },
  {
   "cell_type": "code",
   "execution_count": 477,
   "metadata": {},
   "outputs": [],
   "source": [
    "day5_pt2 = ''.join([value[0] for key,value in board_dict.items()]).replace(\"[\",'').replace(\"]\",'')\n"
   ]
  },
  {
   "cell_type": "code",
   "execution_count": 478,
   "metadata": {},
   "outputs": [
    {
     "data": {
      "text/plain": [
       "'RNRGDNFQG'"
      ]
     },
     "execution_count": 478,
     "metadata": {},
     "output_type": "execute_result"
    }
   ],
   "source": [
    "day5_pt2"
   ]
  },
  {
   "attachments": {},
   "cell_type": "markdown",
   "metadata": {},
   "source": [
    "# Day 6"
   ]
  },
  {
   "cell_type": "code",
   "execution_count": 504,
   "metadata": {},
   "outputs": [],
   "source": [
    "\n",
    "tuning_buffer = open('day6.txt', 'r').readlines()[0]"
   ]
  },
  {
   "cell_type": "code",
   "execution_count": 529,
   "metadata": {},
   "outputs": [
    {
     "data": {
      "text/plain": [
       "1647"
      ]
     },
     "execution_count": 529,
     "metadata": {},
     "output_type": "execute_result"
    }
   ],
   "source": [
    "# return index (+3) of the first unique set of 4 characters\n",
    "for group in range(0,len(tuning_buffer),4):\n",
    "    # print(group)\n",
    "    unique_chars = len(set(tuning_buffer[group:group+4]))\n",
    "    if unique_chars > 3:\n",
    "        \n",
    "        day6_pt1 = tuning_buffer.index(tuning_buffer[group:group+4]) + 3\n",
    "        break\n",
    "day6_pt1"
   ]
  },
  {
   "cell_type": "code",
   "execution_count": 535,
   "metadata": {},
   "outputs": [
    {
     "data": {
      "text/plain": [
       "'dfsfmfbbbjnbbp'"
      ]
     },
     "execution_count": 535,
     "metadata": {},
     "output_type": "execute_result"
    }
   ],
   "source": [
    "len(tuning_buffer[0:14])\n",
    "tuning_buffer[0:14]"
   ]
  },
  {
   "cell_type": "code",
   "execution_count": 530,
   "metadata": {},
   "outputs": [],
   "source": [
    "day6_pt2 = 0"
   ]
  },
  {
   "cell_type": "code",
   "execution_count": 544,
   "metadata": {},
   "outputs": [],
   "source": [
    "# return index (+3) of the first unique set of 4 characters\n",
    "for group in range(0,len(tuning_buffer)):\n",
    "    # print(group)\n",
    "    unique_chars = len(set(tuning_buffer[group:group+14]))\n",
    "    # print(unique_chars)\n",
    "    if unique_chars > 13:\n",
    "        # print(set(tuning_buffer[group:group+14]))\n",
    "        # print(tuning_buffer[group:group+14])\n",
    "        day6_pt2 = tuning_buffer.index(tuning_buffer[group:group+14]) + 14\n",
    "        break\n",
    "# day6_pt1"
   ]
  },
  {
   "cell_type": "code",
   "execution_count": 542,
   "metadata": {},
   "outputs": [
    {
     "data": {
      "text/plain": [
       "2448"
      ]
     },
     "execution_count": 542,
     "metadata": {},
     "output_type": "execute_result"
    }
   ],
   "source": [
    "day6_pt2"
   ]
  },
  {
   "cell_type": "code",
   "execution_count": null,
   "metadata": {},
   "outputs": [],
   "source": []
  }
 ],
 "metadata": {
  "kernelspec": {
   "display_name": "base",
   "language": "python",
   "name": "python3"
  },
  "language_info": {
   "codemirror_mode": {
    "name": "ipython",
    "version": 3
   },
   "file_extension": ".py",
   "mimetype": "text/x-python",
   "name": "python",
   "nbconvert_exporter": "python",
   "pygments_lexer": "ipython3",
   "version": "3.8.13"
  },
  "orig_nbformat": 4,
  "vscode": {
   "interpreter": {
    "hash": "111689e04d53b94374f6db4ace6bfb63a98d0313076d9854b4ae2fb53d40a4a5"
   }
  }
 },
 "nbformat": 4,
 "nbformat_minor": 2
}
