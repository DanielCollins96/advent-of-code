{
 "cells": [
  {
   "attachments": {},
   "cell_type": "markdown",
   "metadata": {},
   "source": [
    "# Day 1"
   ]
  },
  {
   "cell_type": "code",
   "execution_count": 61,
   "metadata": {},
   "outputs": [],
   "source": [
    "day1_data = open('day1.txt', 'r').read().split('\\n\\n')"
   ]
  },
  {
   "cell_type": "code",
   "execution_count": 84,
   "metadata": {},
   "outputs": [
    {
     "data": {
      "text/plain": [
       "70764"
      ]
     },
     "execution_count": 84,
     "metadata": {},
     "output_type": "execute_result"
    }
   ],
   "source": [
    "answer_1 = max([sum([int(cal) for cal in group.split('\\n')]) for group in day1_data])\n",
    "answer_1"
   ]
  },
  {
   "cell_type": "code",
   "execution_count": 86,
   "metadata": {},
   "outputs": [],
   "source": [
    "elf_calorie_list = [sum([int(cal) for cal in group.split('\\n')]) for group in day1_data]\n",
    "answer_2 = sum(sorted(elf_calorie_list, reverse=True)[:3])"
   ]
  },
  {
   "attachments": {},
   "cell_type": "markdown",
   "metadata": {},
   "source": [
    "# Day 2"
   ]
  },
  {
   "cell_type": "code",
   "execution_count": 109,
   "metadata": {},
   "outputs": [],
   "source": [
    "# a/x = 'rock'\n",
    "# b/y = 'paper'\n",
    "# c/z = 'scissor'\n",
    "# rock = 1, paper = 2, scissors = 3\n",
    "# x = lose, y = draw, z = win\n",
    "point_dict = {\n",
    "    'A X': 4,\n",
    "    'A Y': 8,\n",
    "    'A Z': 3,\n",
    "    'B X': 1,\n",
    "    'B Y': 5,\n",
    "    'B Z': 9,\n",
    "    'C X': 7,\n",
    "    'C Y': 2,\n",
    "    'C Z': 6,\n",
    "}\n",
    "win_dict = {\n",
    "    'A X': 3,\n",
    "    'A Y': 4,\n",
    "    'A Z': 8,\n",
    "    'B X': 1,\n",
    "    'B Y': 5,\n",
    "    'B Z': 9,\n",
    "    'C X': 2,\n",
    "    'C Y': 6,\n",
    "    'C Z': 7,\n",
    "}"
   ]
  },
  {
   "cell_type": "code",
   "execution_count": 99,
   "metadata": {},
   "outputs": [],
   "source": [
    "rock_paper_scissors = open('day2.txt', 'r').read().split('\\n')"
   ]
  },
  {
   "cell_type": "code",
   "execution_count": 110,
   "metadata": {},
   "outputs": [],
   "source": [
    "day2_p1 = sum([rock_paper_scissors.count(x) * y for x,y in point_dict.items()])\n",
    "day2_p2 = sum([rock_paper_scissors.count(x) * y for x,y in win_dict.items()])"
   ]
  },
  {
   "cell_type": "code",
   "execution_count": 111,
   "metadata": {},
   "outputs": [
    {
     "data": {
      "text/plain": [
       "12316"
      ]
     },
     "execution_count": 111,
     "metadata": {},
     "output_type": "execute_result"
    }
   ],
   "source": [
    "day2_p2"
   ]
  },
  {
   "cell_type": "code",
   "execution_count": null,
   "metadata": {},
   "outputs": [],
   "source": []
  }
 ],
 "metadata": {
  "kernelspec": {
   "display_name": "base",
   "language": "python",
   "name": "python3"
  },
  "language_info": {
   "codemirror_mode": {
    "name": "ipython",
    "version": 3
   },
   "file_extension": ".py",
   "mimetype": "text/x-python",
   "name": "python",
   "nbconvert_exporter": "python",
   "pygments_lexer": "ipython3",
   "version": "3.8.13"
  },
  "orig_nbformat": 4,
  "vscode": {
   "interpreter": {
    "hash": "111689e04d53b94374f6db4ace6bfb63a98d0313076d9854b4ae2fb53d40a4a5"
   }
  }
 },
 "nbformat": 4,
 "nbformat_minor": 2
}
